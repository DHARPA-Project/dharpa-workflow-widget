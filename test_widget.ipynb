{
 "cells": [
  {
   "cell_type": "code",
   "execution_count": 1,
   "metadata": {},
   "outputs": [
    {
     "data": {
      "text/html": [
       "<pre style=\"white-space:pre;overflow-x:auto;line-height:normal;font-family:Menlo,'DejaVu Sans Mono',consolas,'Courier New',monospace\"><span style=\"font-weight: bold\">{</span><span style=\"color: #008000\">'files_collection'</span>: <span style=\"font-weight: bold\">&lt;</span><span style=\"color: #ff00ff; font-weight: bold\">class</span><span style=\"color: #000000\"> </span><span style=\"color: #008000\">'dharpa_toolbox.modules.files.FilesCollectionModule'</span><span style=\"font-weight: bold\">&gt;}</span>\n",
       "</pre>\n"
      ],
      "text/plain": [
       "<rich.jupyter.JupyterRenderable at 0x7fcc7142b3d0>"
      ]
     },
     "metadata": {},
     "output_type": "display_data"
    },
    {
     "name": "stdout",
     "output_type": "stream",
     "text": [
      "PREPROCESSING\n",
      "module 'input_text_files'\n",
      "module 'stopword_file'\n",
      "module 'dharpa_workflow_0'\n",
      "CREATE WORKFLOW INPUTS\n"
     ]
    },
    {
     "data": {
      "application/vnd.jupyter.widget-view+json": {
       "model_id": "fd28d1e4e19b436ab3b1bab361424b9e",
       "version_major": 2,
       "version_minor": 0
      },
      "text/plain": [
       "HelloWorld()"
      ]
     },
     "metadata": {},
     "output_type": "display_data"
    }
   ],
   "source": [
    "import networkx as nx\n",
    "from rich.jupyter import print\n",
    "from dharpa_toolbox.utils import graph_to_image\n",
    "\n",
    "\n",
    "from dharpa_toolbox.workflows import DharpaWorkflow, ALL_MODULE_CLASSES\n",
    "\n",
    "print(ALL_MODULE_CLASSES)\n",
    "\n",
    "config = {\n",
    "    \"modules\": [\n",
    "        {\"type\": \"files_collection\",\n",
    "         \"id\": \"input_text_files\",\n",
    "        },\n",
    "        {\"type\": \"files_collection\",\n",
    "         \"id\": \"stopword_file\",\n",
    "        },\n",
    "    ]\n",
    "}\n",
    "\n",
    "dw = DharpaWorkflow(**config)\n",
    "\n",
    "from dharpa_workflow_widget.workflow import HelloWorld\n",
    "\n",
    "# hw = HelloWorld()\n",
    "# hw\n",
    "\n",
    "\n",
    "# graph_to_image(dw.dependency_graph)\n",
    "hw = HelloWorld()\n",
    "hw"
   ]
  }
 ],
 "metadata": {
  "kernelspec": {
   "display_name": "Python 3",
   "language": "python",
   "name": "python3"
  },
  "language_info": {
   "codemirror_mode": {
    "name": "ipython",
    "version": 3
   },
   "file_extension": ".py",
   "mimetype": "text/x-python",
   "name": "python",
   "nbconvert_exporter": "python",
   "pygments_lexer": "ipython3",
   "version": "3.7.9"
  }
 },
 "nbformat": 4,
 "nbformat_minor": 1
}